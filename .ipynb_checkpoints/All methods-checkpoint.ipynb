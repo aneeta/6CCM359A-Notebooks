{
 "cells": [
  {
   "cell_type": "code",
   "execution_count": 62,
   "metadata": {
    "ExecuteTime": {
     "end_time": "2020-12-06T12:34:49.455218Z",
     "start_time": "2020-12-06T12:34:49.029290Z"
    }
   },
   "outputs": [],
   "source": [
    "from numpy import *\n",
    "import matplotlib.pyplot as plt"
   ]
  },
  {
   "cell_type": "markdown",
   "metadata": {
    "heading_collapsed": true
   },
   "source": [
    "## Zeros of a function"
   ]
  },
  {
   "cell_type": "markdown",
   "metadata": {
    "hidden": true
   },
   "source": [
    "### Newton"
   ]
  },
  {
   "cell_type": "code",
   "execution_count": 94,
   "metadata": {
    "ExecuteTime": {
     "end_time": "2020-12-06T23:11:14.810829Z",
     "start_time": "2020-12-06T23:11:14.806080Z"
    },
    "hidden": true
   },
   "outputs": [],
   "source": [
    "def newton(f,df,x0):\n",
    "    xs = [x0]\n",
    "    for i in range(10):\n",
    "        xs.append(xs[-1]-f(xs[-1])/df(xs[-1]))\n",
    "    return xs[-1]"
   ]
  },
  {
   "cell_type": "markdown",
   "metadata": {
    "hidden": true
   },
   "source": [
    "### Secant"
   ]
  },
  {
   "cell_type": "code",
   "execution_count": 97,
   "metadata": {
    "ExecuteTime": {
     "end_time": "2020-12-06T23:12:41.053465Z",
     "start_time": "2020-12-06T23:12:41.048334Z"
    },
    "hidden": true
   },
   "outputs": [],
   "source": [
    "def secant(f,x0,xm1):\n",
    "    x=[xm1,x0]\n",
    "    for i in range(10):\n",
    "        x.append((x[-1]*f(x[-2])-x[-2]*f(x[-1]))/(f(x[-2])-f(x[-1])))\n",
    "    return x[-1]\n",
    "        "
   ]
  },
  {
   "cell_type": "markdown",
   "metadata": {
    "hidden": true
   },
   "source": [
    "### Bisection "
   ]
  },
  {
   "cell_type": "code",
   "execution_count": 98,
   "metadata": {
    "ExecuteTime": {
     "end_time": "2020-12-06T23:14:58.110532Z",
     "start_time": "2020-12-06T23:14:58.105013Z"
    },
    "hidden": true
   },
   "outputs": [],
   "source": [
    "def bisection(f,a,b):\n",
    "    for i in range(10):\n",
    "        c=(a+b)/2 # find midpoint\n",
    "        if abs(f(c)) < 10**-10:\n",
    "            print(\"found zero\",c)\n",
    "            return c\n",
    "        if f(a)*f(c)<0:\n",
    "            a=a\n",
    "            b=c\n",
    "        else:\n",
    "            a=c\n",
    "            b=b\n",
    "        print(\"a=\",a,\"b=\",b,\"f(a)=\",f(a))\n"
   ]
  },
  {
   "cell_type": "markdown",
   "metadata": {
    "heading_collapsed": true
   },
   "source": [
    "## Polynomials"
   ]
  },
  {
   "cell_type": "code",
   "execution_count": null,
   "metadata": {
    "hidden": true
   },
   "outputs": [],
   "source": []
  },
  {
   "cell_type": "markdown",
   "metadata": {
    "heading_collapsed": true
   },
   "source": [
    "## Differentiation"
   ]
  },
  {
   "cell_type": "code",
   "execution_count": null,
   "metadata": {
    "hidden": true
   },
   "outputs": [],
   "source": []
  },
  {
   "cell_type": "markdown",
   "metadata": {},
   "source": [
    "## Integration"
   ]
  },
  {
   "cell_type": "markdown",
   "metadata": {
    "heading_collapsed": true
   },
   "source": [
    "### Midpoint"
   ]
  },
  {
   "cell_type": "code",
   "execution_count": null,
   "metadata": {
    "hidden": true
   },
   "outputs": [],
   "source": [
    "def midpoint(f,a,b,h):\n",
    "    # f - some function\n",
    "    # h - number of interval divisons\n",
    "    # a,b - interval\n",
    "    return sum(list(map(lambda x: f(x), np.arange(a+h/2,b+h/2,h))))*h"
   ]
  },
  {
   "cell_type": "markdown",
   "metadata": {
    "heading_collapsed": true
   },
   "source": [
    "### Trapezoidal"
   ]
  },
  {
   "cell_type": "code",
   "execution_count": 100,
   "metadata": {
    "ExecuteTime": {
     "end_time": "2020-12-06T23:16:45.536033Z",
     "start_time": "2020-12-06T23:16:45.530298Z"
    },
    "hidden": true
   },
   "outputs": [],
   "source": [
    "def trapezoidal(f,a,b,n):\n",
    "    fs =list(map(lambda x: f(x), arange(a,b+(b-a)/n,(b-a)/n)))\n",
    "    return (sum(fs)-(fs[0]+fs[-1])*0.5)*(b-a)/n"
   ]
  },
  {
   "cell_type": "markdown",
   "metadata": {
    "heading_collapsed": true
   },
   "source": [
    "### Simpsons"
   ]
  },
  {
   "cell_type": "code",
   "execution_count": null,
   "metadata": {
    "hidden": true
   },
   "outputs": [],
   "source": [
    "def Simpsons(f,a,b,n):\n",
    "    # f - some function\n",
    "    # n - number of interval divisons\n",
    "    # a,b - interval\n",
    "    x = np.linspace(a,b,n)\n",
    "    return sum([(x[i+1]-x[i])/6*(f(x[i])+4*f((x[i] + x[i+1])/2)+f(x[i+1])) for i in range(len(x)-1)])"
   ]
  },
  {
   "cell_type": "markdown",
   "metadata": {
    "heading_collapsed": true
   },
   "source": [
    "### Gaussian"
   ]
  },
  {
   "cell_type": "markdown",
   "metadata": {
    "heading_collapsed": true,
    "hidden": true
   },
   "source": [
    "#### Lecture example"
   ]
  },
  {
   "cell_type": "code",
   "execution_count": 75,
   "metadata": {
    "ExecuteTime": {
     "end_time": "2020-12-06T22:53:43.868803Z",
     "start_time": "2020-12-06T22:53:43.548721Z"
    },
    "hidden": true
   },
   "outputs": [],
   "source": [
    "from scipy import integrate"
   ]
  },
  {
   "cell_type": "code",
   "execution_count": 77,
   "metadata": {
    "ExecuteTime": {
     "end_time": "2020-12-06T22:55:00.665860Z",
     "start_time": "2020-12-06T22:55:00.650003Z"
    },
    "hidden": true
   },
   "outputs": [
    {
     "data": {
      "text/plain": [
       "1.6916641953567468"
      ]
     },
     "execution_count": 77,
     "metadata": {},
     "output_type": "execute_result"
    }
   ],
   "source": [
    "a,b = -1,1\n",
    "\n",
    "def w(x):\n",
    "    return math.exp(-x**2)\n",
    "\n",
    "def h(k):\n",
    "    return integrate.quad(lambda x: w(x)*x**k,a,b)[0]\n",
    "\n",
    "def nodesAndWeights(n):\n",
    "    # finding xi\n",
    "    B = array([[0.]*(n+1)]*(n+1))    # arrays of 0's, with \"0.\" we tell python that these are floating point numbers\n",
    "    u = array([0.]*(n+1))\n",
    "    for k in range(n+1):\n",
    "        u[k] = - h(n+1+k)\n",
    "        for i in range(n+1):\n",
    "            B[k,i] = h(k+i)\n",
    "    cs = linalg.solve(B,u)\n",
    "    cs = append(cs,[1])        # must add last coefficient which is 1\n",
    "    xs = roots(cs[::-1]).real   # roots calculats roots of polynomial, but with inverse order of coefficients\n",
    "    # finding Ai\n",
    "    As = array([0.]*(n+1))\n",
    "    for k in range(n+1):\n",
    "        u[k] = h(k)\n",
    "        for i in range(n+1):\n",
    "            B[k,i] = xs[i]**k\n",
    "    As = linalg.solve(B,u)\n",
    "    return xs, As\n",
    "\n",
    "def gauss(f,A,x):\n",
    "    return sum(A*array(list(map(f,x))))\n",
    "\n",
    "xs, As = nodesAndWeights(6)\n",
    "gauss(lambda x: math.exp(x),As,xs)"
   ]
  },
  {
   "cell_type": "markdown",
   "metadata": {
    "hidden": true
   },
   "source": [
    "#### Problem Set 2"
   ]
  },
  {
   "cell_type": "markdown",
   "metadata": {
    "hidden": true
   },
   "source": [
    "Adopt the code from the lecture 5.1 to work in the setting described in 3) i.e. for $w(x)=e^{-x}$ and $a=0,\\;b=\\infty$. Check you analytical results for $A_i$ and $x_i$ for the question 3).</p>\n",
    "<p>Use those nodes and weight to compute the integral $\\int_0^\\infty e^{-x} dx$. Compare with the exact result $1/2$. See how the error decreases when you increase $n$</p>\n"
   ]
  },
  {
   "cell_type": "code",
   "execution_count": 80,
   "metadata": {
    "ExecuteTime": {
     "end_time": "2020-12-06T22:57:52.466912Z",
     "start_time": "2020-12-06T22:57:52.463010Z"
    },
    "hidden": true
   },
   "outputs": [],
   "source": [
    "def h(k, a, b):\n",
    "    return integrate.quad(lambda x: np.e**(-x)*x**k, a, b)[0]"
   ]
  },
  {
   "cell_type": "code",
   "execution_count": 81,
   "metadata": {
    "ExecuteTime": {
     "end_time": "2020-12-06T22:57:52.694495Z",
     "start_time": "2020-12-06T22:57:52.688048Z"
    },
    "hidden": true
   },
   "outputs": [],
   "source": [
    "def nodes_weights(h, n, a, b):\n",
    "    # get polynomials\n",
    "    # Hc=d\n",
    "    d = [-h(n+1+k, a, b) for k in range(n+1)]\n",
    "    H = [[h(k+i, a, b) for k in range(n+1)] for i in range(n+1)]\n",
    "    \n",
    "    # find polynomial coefficients\n",
    "    c = np.linalg.solve(H,d) \n",
    "    c = np.append(c, [1])\n",
    "    \n",
    "    #find roots\n",
    "    x_i = np.roots(c[::-1]).real\n",
    "    \n",
    "    #find weights\n",
    "    #Xa=h\n",
    "    h = [h(k,a,b) for k in range(n+1)]\n",
    "    X = [[x_i[i]**k for i in range(n+1)] for k in range(n+1)]\n",
    "\n",
    "    a = np.linalg.solve(X,h)\n",
    "    \n",
    "    return x_i, a"
   ]
  },
  {
   "cell_type": "code",
   "execution_count": 82,
   "metadata": {
    "ExecuteTime": {
     "end_time": "2020-12-06T22:57:52.950316Z",
     "start_time": "2020-12-06T22:57:52.947261Z"
    },
    "hidden": true
   },
   "outputs": [],
   "source": [
    "def gaussian(f,A,x):\n",
    "    return sum(A*np.array(list(map(f,x))))"
   ]
  },
  {
   "cell_type": "code",
   "execution_count": 83,
   "metadata": {
    "ExecuteTime": {
     "end_time": "2020-12-06T22:57:53.514999Z",
     "start_time": "2020-12-06T22:57:53.426580Z"
    },
    "hidden": true
   },
   "outputs": [
    {
     "data": {
      "text/plain": [
       "0.5004730373742192"
      ]
     },
     "execution_count": 83,
     "metadata": {},
     "output_type": "execute_result"
    }
   ],
   "source": [
    "nodes, weights = nodes_weights(h, 20, 0, np.inf)\n",
    "gaussian(lambda x: np.e**(-x), weights, nodes)"
   ]
  },
  {
   "cell_type": "code",
   "execution_count": 84,
   "metadata": {
    "ExecuteTime": {
     "end_time": "2020-12-06T22:57:53.967661Z",
     "start_time": "2020-12-06T22:57:53.851318Z"
    },
    "hidden": true
   },
   "outputs": [],
   "source": [
    "_ = [nodes_weights(h, i, 0, np.inf) for i in range(1, 13)]\n",
    "results = [0.5 - gaussian(lambda x: np.e**(-x), weights, nodes) for (nodes, weights) in _]"
   ]
  },
  {
   "cell_type": "code",
   "execution_count": 85,
   "metadata": {
    "ExecuteTime": {
     "end_time": "2020-12-06T22:57:55.127961Z",
     "start_time": "2020-12-06T22:57:54.574723Z"
    },
    "hidden": true
   },
   "outputs": [
    {
     "data": {
      "image/png": "[encoded data removed]",
      "text/plain": [
       "<Figure size 720x432 with 1 Axes>"
      ]
     },
     "metadata": {
      "needs_background": "light"
     },
     "output_type": "display_data"
    }
   ],
   "source": [
    "xs = [i for i in range(1, 13)]\n",
    "plt.figure(figsize=(10,6))\n",
    "plt.semilogy(xs, results)\n",
    "plt.plot(xs, results, \"ro\")\n",
    "\n",
    "plt.xlim([0, 13])\n",
    "plt.ylim([10**-13, 1])\n",
    "plt.xlabel(\"$n$\", fontsize = 16)\n",
    "plt.ylabel(\"Error\", fontsize = 16)\n",
    "plt.show()"
   ]
  },
  {
   "cell_type": "markdown",
   "metadata": {},
   "source": [
    "### Monte Carlo"
   ]
  },
  {
   "cell_type": "markdown",
   "metadata": {
    "heading_collapsed": true
   },
   "source": [
    "#### 2D"
   ]
  },
  {
   "cell_type": "code",
   "execution_count": null,
   "metadata": {
    "hidden": true
   },
   "outputs": [],
   "source": []
  },
  {
   "cell_type": "markdown",
   "metadata": {},
   "source": [
    "#### 3D - Q2"
   ]
  },
  {
   "cell_type": "markdown",
   "metadata": {},
   "source": [
    "Approximate by the Monte Carlo method the following integral:\n",
    "$$\\int_{-1}^1 dx \\int_{-1}^1dy\\, (x^2+y^2)$$\n",
    "that is, the area under the curve of the function $x^2+y^2$ on the region [−1,1]×2. For this purpose, write the function 𝚖𝚌(𝙽) which returns the Monte Carlo approximation of the integral over 𝙽 steps. Be sure to choose your bounding domain large enough!\n"
   ]
  },
  {
   "cell_type": "code",
   "execution_count": null,
   "metadata": {},
   "outputs": [],
   "source": [
    "def mc(N):\n",
    "    n=0\n",
    "    for i in range(N):\n",
    "        x = random.uniform(-1,1)\n",
    "        y = random.uniform(-1,1)\n",
    "        z = random.uniform(0,2)\n",
    "        if x**2+y**2 < z:\n",
    "            n += 1\n",
    "    p1 = n/N\n",
    "    S1 = p1*8\n",
    "    error=8*sqrt(p1*(1-p1))/(sqrt(N))\n",
    "    \n",
    "    return S1, error"
   ]
  },
  {
   "cell_type": "markdown",
   "metadata": {},
   "source": [
    "## Differential Equations"
   ]
  },
  {
   "cell_type": "markdown",
   "metadata": {},
   "source": [
    "### ODE"
   ]
  },
  {
   "cell_type": "markdown",
   "metadata": {},
   "source": [
    "#### Euler"
   ]
  },
  {
   "cell_type": "markdown",
   "metadata": {},
   "source": [
    "Use the Euler method to solve the equation $y″(x)=−y′(x)$ with the initial conditions $y(0)=0$ and $y′(0)=1$. Plot your solution against the exact solution $y(x)=1−e^{-x}$."
   ]
  },
  {
   "cell_type": "code",
   "execution_count": 67,
   "metadata": {
    "ExecuteTime": {
     "end_time": "2020-12-06T19:56:44.791742Z",
     "start_time": "2020-12-06T19:56:44.771079Z"
    }
   },
   "outputs": [],
   "source": [
    "def f(x, y_v):\n",
    "    return -y_v[1]"
   ]
  },
  {
   "cell_type": "code",
   "execution_count": null,
   "metadata": {},
   "outputs": [],
   "source": [
    "def F_v(f, x, y_v):\n",
    "    #size\n",
    "    n = len(y_v)\n",
    "    \n",
    "    result = np.zeros(n)\n",
    "    for i in range(n-1):\n",
    "        result[i] = y_v[i+1]\n",
    "        \n",
    "    result[-1] = f(x, y_v)\n",
    "    return result"
   ]
  },
  {
   "cell_type": "code",
   "execution_count": null,
   "metadata": {},
   "outputs": [],
   "source": [
    "def Euler(init, interval, n, F, f):\n",
    "    #increment\n",
    "    h = abs(interval[1]-interval[0])/n\n",
    "    \n",
    "    #initialize x\n",
    "    x = np.arange(interval[0], interval[1]+h, h)\n",
    "    \n",
    "    #initialize y - [y, y', y'', ...]\n",
    "    y = np.zeros((n+1, len(init)))\n",
    "    y[0] = init\n",
    "    \n",
    "    #populate y\n",
    "    for i in range(n):\n",
    "        y[i+1] = y[i] + h*F(f, interval[0]+i*h, y[i])\n",
    "        \n",
    "    return x, y\n"
   ]
  },
  {
   "cell_type": "markdown",
   "metadata": {},
   "source": [
    "#### Runge-Kutta 2nd Order"
   ]
  },
  {
   "cell_type": "code",
   "execution_count": null,
   "metadata": {},
   "outputs": [],
   "source": [
    "def RK2(init, interval, n, F, f):\n",
    "    #same params as Euler\n",
    "    \n",
    "    #increment\n",
    "    h = abs(interval[0]-interval[1])/n\n",
    "    \n",
    "    #initialize x\n",
    "    x = np.arange(interval[0], interval[1]+h, h)\n",
    "    \n",
    "    #initialize y\n",
    "    y = np.zeros((n+1, len(init)))\n",
    "    y[0] = init\n",
    "    \n",
    "    #populate y\n",
    "    for i in range(n):\n",
    "        xi = interval[0] + i*h\n",
    "        y[i+1] = y[i] + h*F(f,xi+h/2,y[i]+h*F(f,xi,y[i])/2)\n",
    "    return x, y"
   ]
  },
  {
   "cell_type": "markdown",
   "metadata": {},
   "source": [
    "#### Runge-Kutta 4th Order\n",
    "\n",
    "Write a function $\\tt Integrator(F,x)$ which solves the differential equation $\\vec y' = \\vec F(x,\\vec y)$ on the interval $[0,x]$ by the 4th order Runge-Kutta method, for a two-dimensional vector $\\vec y$, with initial condition $\\vec y(0) = (1,1)^T$ (the column vector with all 1's). The integrator should output the solution at the point $x$; assume that $x > 0$, and take subintervals of lengths 0.1. Then, solve the equation $\\vec y' = A\\vec y$ where $A = \\left(\\begin{matrix} 2 & 3 \\\\ 0 & -2 \\end{matrix}\\right)$ using this integrator.<br><br>Then, implement the analytical solution $\\vec y(x) = \\exp(Ax)(1,1)^T$ by importing scipy.linalg and using its method expm for exponentiation of a matrix, and compare with your numerical solution by printing both numerical and analytical solutions at various values of $x$."
   ]
  },
  {
   "cell_type": "code",
   "execution_count": 68,
   "metadata": {
    "ExecuteTime": {
     "end_time": "2020-12-06T20:43:30.595742Z",
     "start_time": "2020-12-06T20:43:30.479675Z"
    }
   },
   "outputs": [],
   "source": [
    "import scipy.linalg"
   ]
  },
  {
   "cell_type": "code",
   "execution_count": null,
   "metadata": {},
   "outputs": [],
   "source": [
    "def F_v(x, y_v):\n",
    "    return np.dot(np.array([[2,3],[0,-2]]),y_v)"
   ]
  },
  {
   "cell_type": "code",
   "execution_count": null,
   "metadata": {},
   "outputs": [],
   "source": [
    "def RK4(init, interval, F, h):\n",
    "    \n",
    "    n = round((interval[1]-interval[0])/h)\n",
    "    \n",
    "    #initialize x\n",
    "    x = np.arange(interval[0], interval[1]+h, h)\n",
    "    \n",
    "    #initialize y\n",
    "    y = np.zeros((n+1, len(init)))\n",
    "    y[0] = init\n",
    "    \n",
    "    #populate y\n",
    "    for i in range(n):\n",
    "        K0 = h*F(interval[0]+i*h, y[i])\n",
    "        K1 = h*F(interval[0]+(i+0.5)*h, y[i] + K0/2)\n",
    "        K2 = h*F(interval[0]+(i+0.5)*h, y[i] + K1/2)\n",
    "        K3 = h*F(interval[0]+(i+1)*h, y[i] + K2)\n",
    "        y[i+1] = y[i] + (K0 + 2*K1 + 2*K2 + K3)/6\n",
    "        \n",
    "    return y[-1]"
   ]
  },
  {
   "cell_type": "code",
   "execution_count": null,
   "metadata": {},
   "outputs": [],
   "source": [
    "y0 = np.array([[1],[1]])"
   ]
  },
  {
   "cell_type": "code",
   "execution_count": null,
   "metadata": {},
   "outputs": [],
   "source": [
    "RK4([1,1], [0,x], F_v, 0.1)"
   ]
  },
  {
   "cell_type": "markdown",
   "metadata": {},
   "source": [
    "##### Runge-Kutta F function - Q4"
   ]
  },
  {
   "cell_type": "markdown",
   "metadata": {},
   "source": [
    "We would like to solve numerically the following system of first-order ordinary differential equations by the Runge-Kutta method:\n",
    "$$y_0'(x) = 3x^2,\\quad y_1'(x) = y_0(x) + y_2(x),\\quad y_2'(x) = x$$\n",
    "\n",
    "In our implementation of the Runge-Kutta method, the main update equation for the solution table 𝚢𝚜[𝚒] (with 𝑥=𝚒𝚑) is\n",
    "\n",
    "𝚢𝚜[𝚒+𝟷]=𝚢𝚜[𝚒]+𝚑/𝟸∗(𝙵(𝚊+𝚒∗𝚑,𝚢𝚜[𝚒])+𝙵(𝚊+𝚒∗𝚑+𝚑,𝚢𝚜[𝚒]+𝚑∗𝙵(𝚊+𝚒∗𝚑,𝚢𝚜[𝚒])))\n",
    "\n",
    "Write the function 𝙵(𝚡,𝚢𝚟𝚎𝚌) which corresponds to the correct equation."
   ]
  },
  {
   "cell_type": "code",
   "execution_count": null,
   "metadata": {},
   "outputs": [],
   "source": [
    "def F(x,yvec):\n",
    "    res = zeros(3)\n",
    "    res[0] = 3*x**2\n",
    "    res[1] = yvec[0] + yvec[2]\n",
    "    res[2] = x\n",
    "    return res"
   ]
  },
  {
   "cell_type": "code",
   "execution_count": null,
   "metadata": {},
   "outputs": [],
   "source": []
  },
  {
   "cell_type": "code",
   "execution_count": null,
   "metadata": {},
   "outputs": [],
   "source": []
  },
  {
   "cell_type": "code",
   "execution_count": null,
   "metadata": {},
   "outputs": [],
   "source": []
  },
  {
   "cell_type": "code",
   "execution_count": null,
   "metadata": {},
   "outputs": [],
   "source": []
  },
  {
   "cell_type": "markdown",
   "metadata": {
    "heading_collapsed": true
   },
   "source": [
    "#### Boundary Problems - The Shooting Method"
   ]
  },
  {
   "cell_type": "markdown",
   "metadata": {
    "hidden": true
   },
   "source": [
    "##### Problem from Quiz 8 - two initial conditions"
   ]
  },
  {
   "cell_type": "markdown",
   "metadata": {
    "hidden": true
   },
   "source": [
    "Here we must look for two initial conditions at $a$, instead of 1. So we have a vector of initial condition $[alpha, u_1, u_2]$, and we must fix $u_1$ and $u_2$. We first fix $u_2$ by using the secant method on a function $G(u_2)$ which itself, for every $u_2$, fixes $u_1$ according to the condition at $a$, and then evaluate the function at $c$, minus $\\gamma$. Once $u_2$ is found, we must do again the secant method to re-find $u_1$, using this known value of $u_2$ (we could instead of kept the value of $u_1$ in a global variable, but this doesn't matter). Once we have the two values, we re-solve using the known values of $u_1$ and $u_2$, and set $xs, ys$."
   ]
  },
  {
   "cell_type": "code",
   "execution_count": 46,
   "metadata": {
    "ExecuteTime": {
     "end_time": "2020-12-06T12:27:46.419615Z",
     "start_time": "2020-12-06T12:27:46.407707Z"
    },
    "code_folding": [],
    "hidden": true
   },
   "outputs": [],
   "source": [
    "# THESE ARE THE FUNCTIONS FROM THE VIDEO NOTEBOOK\n",
    "def rungekutta(alpha,a,b,N,F):\n",
    "    alpha = array(alpha)\n",
    "    h = (b-a)/N\n",
    "    ys = zeros([N+1,len(alpha)])\n",
    "    ys[0] = alpha\n",
    "    xs = arange(a,b+h,h)\n",
    "    for i in range(N):\n",
    "        ys[i+1] = ys[i] + h/2*(F(a + i*h, ys[i]) + F(a + i*h + h, ys[i]+h*F(a + i*h, ys[i])))\n",
    "    return xs,ys\n",
    "def Fnthorder(x,yvec):\n",
    "    res = zeros(yvec.size)\n",
    "    for i in range(yvec.size-1):\n",
    "        res[i] = yvec[i+1]\n",
    "    res[yvec.size-1] = f(x,yvec)\n",
    "    return res\n",
    "def secant(f,x0,xm1):\n",
    "    xs=[xm1,x0]\n",
    "    for i in range(3):\n",
    "        xs.append( (xs[-1]*f(xs[-2])-xs[-2]*f(xs[-1])) / (f(xs[-2])-f(xs[-1])) )\n",
    "    return xs\n",
    "\n",
    "# these are the appropriate values for the \"boundary conditions\"\n",
    "a=0\n",
    "b=2\n",
    "c=4\n",
    "alpha=1\n",
    "beta=0.5\n",
    "gamma=0.7\n",
    "\n",
    "# you must define f properly here\n",
    "def f(x,yvec):\n",
    "    return -yvec[0]"
   ]
  },
  {
   "cell_type": "code",
   "execution_count": 65,
   "metadata": {
    "ExecuteTime": {
     "end_time": "2020-12-06T12:35:29.407825Z",
     "start_time": "2020-12-06T12:35:25.896437Z"
    },
    "hidden": true
   },
   "outputs": [],
   "source": [
    "# then write an appropriate code that set ys[:,0] to the correct numerical solution,\n",
    "# and xs to the list of x values.\n",
    "def GG(u2):\n",
    "    def g1(u1): \n",
    "        xs1, ys1 = rungekutta([alpha, u1, u2],a,b, 2000,Fnthorder)\n",
    "        return ys1[-1][0] - beta\n",
    "    u1sol = secant(g1,0,1)[-1] #solving for y(b) = beta\n",
    "    xs,ys = rungekutta(array([alpha,u1sol,u2]),a,c,2000,Fnthorder)\n",
    "    return ys[-1,0] - gamma\n",
    "u2sol = secant(GG,0,1)[-1]\n",
    "\n",
    "def G(u1):\n",
    "    xs,ys = rungekutta(array([alpha,u1,u2sol]),a,b,2000,Fnthorder)\n",
    "    return ys[-1,0] - beta\n",
    "\n",
    "u1sol = secant(G,0,1)[-1]\n",
    "\n",
    "xs,ys = rungekutta(array([alpha,u1sol,u2sol]),a,c,2000,Fnthorder)"
   ]
  },
  {
   "cell_type": "code",
   "execution_count": 66,
   "metadata": {
    "ExecuteTime": {
     "end_time": "2020-12-06T12:35:29.558217Z",
     "start_time": "2020-12-06T12:35:29.434703Z"
    },
    "hidden": true
   },
   "outputs": [
    {
     "data": {
      "image/png": "[encoded data removed]",
      "text/plain": [
       "<Figure size 432x288 with 1 Axes>"
      ]
     },
     "metadata": {
      "needs_background": "light"
     },
     "output_type": "display_data"
    }
   ],
   "source": [
    "plt.plot(xs, ys[:,0])\n",
    "plt.show()"
   ]
  },
  {
   "cell_type": "markdown",
   "metadata": {},
   "source": [
    "### Stochastic equations"
   ]
  },
  {
   "cell_type": "markdown",
   "metadata": {
    "heading_collapsed": true
   },
   "source": [
    "#### Brownian Motion"
   ]
  },
  {
   "cell_type": "code",
   "execution_count": 70,
   "metadata": {
    "ExecuteTime": {
     "end_time": "2020-12-06T22:51:18.249974Z",
     "start_time": "2020-12-06T22:51:18.241508Z"
    },
    "hidden": true
   },
   "outputs": [],
   "source": [
    "def brownian(T,sigma):\n",
    "    dt=0.001\n",
    "    ts = arange(0,T,dt)\n",
    "    N = ts.size\n",
    "    xs = zeros(N)\n",
    "    xs[0]=0\n",
    "    sdt = sqrt(dt)\n",
    "    for i in range(1,N):\n",
    "        xs[i] = xs[i-1] + sigma*random.normal(0,sdt)\n",
    "    return ts,xs\n",
    "ts,xs = brownian(1,1)"
   ]
  },
  {
   "cell_type": "code",
   "execution_count": 72,
   "metadata": {
    "ExecuteTime": {
     "end_time": "2020-12-06T22:51:27.318913Z",
     "start_time": "2020-12-06T22:51:27.178223Z"
    },
    "hidden": true,
    "scrolled": true
   },
   "outputs": [
    {
     "data": {
      "image/png": "[encoded data removed]",
      "text/plain": [
       "<Figure size 432x288 with 1 Axes>"
      ]
     },
     "metadata": {
      "needs_background": "light"
     },
     "output_type": "display_data"
    }
   ],
   "source": [
    "plt.plot(ts,xs)\n",
    "plt.show()"
   ]
  },
  {
   "cell_type": "markdown",
   "metadata": {
    "hidden": true
   },
   "source": [
    "##### Distrubiution for the Brownian motion"
   ]
  },
  {
   "cell_type": "code",
   "execution_count": 73,
   "metadata": {
    "ExecuteTime": {
     "end_time": "2020-12-06T22:52:02.832821Z",
     "start_time": "2020-12-06T22:52:01.371904Z"
    },
    "hidden": true
   },
   "outputs": [
    {
     "data": {
      "image/png": "[encoded data removed]",
      "text/plain": [
       "<Figure size 432x288 with 1 Axes>"
      ]
     },
     "metadata": {
      "needs_background": "light"
     },
     "output_type": "display_data"
    }
   ],
   "source": [
    "ys = zeros(500)\n",
    "T=1\n",
    "for i in range(500):\n",
    "    ts,xs = brownian(1,1)\n",
    "    ys[i] = xs[-1]\n",
    "    # plt.plot(ts,xs,\"b\")\n",
    "#plt.show()\n",
    "xtab = [0. for x in arange(-5,5,0.5)]\n",
    "for i in range(500):\n",
    "    xtab[ int(round((ys[i]+5)/0.5)) ] = xtab[ int(round((ys[i]+5)/0.5)) ] + 1.0/500/0.5\n",
    "plt.plot(arange(-5,5,0.5),xtab)\n",
    "x = arange(-5,5,0.1)\n",
    "plt.plot(x,exp(-x*x/2)/sqrt(2*pi))\n",
    "plt.show()"
   ]
  },
  {
   "cell_type": "markdown",
   "metadata": {},
   "source": [
    "#### Wiener process"
   ]
  },
  {
   "cell_type": "markdown",
   "metadata": {},
   "source": [
    "Consider the following stochastic equation:\n",
    "$$dy = t^2 dt + e^{y(t)} dW$$\n",
    "where 𝑊 is a Wiener process.\n",
    "\n",
    "Implement the function 𝚜𝚝𝚘𝚌𝚑𝚊𝚜𝚝𝚒𝚌(𝚃) which outputs only the value 𝑦(𝚃), with the initial condition 𝑦(0)=4, and with a small time interval 𝑑𝑡=0.1."
   ]
  },
  {
   "cell_type": "code",
   "execution_count": null,
   "metadata": {},
   "outputs": [],
   "source": [
    "def stochastic(T):\n",
    "    dt=0.1\n",
    "    ts = arange(0,T+dt,dt)\n",
    "    N = ts.size\n",
    "    ys = zeros(N)\n",
    "    ys[0]=4\n",
    "    sdt = sqrt(dt)\n",
    "    for i in range(1,N):\n",
    "        ys[i] = ys[i-1] + ts[i-1]**2*dt + e**(ys[i-1])*random.normal(0,sdt)\n",
    "    return ys[-1]"
   ]
  },
  {
   "cell_type": "code",
   "execution_count": null,
   "metadata": {},
   "outputs": [],
   "source": []
  },
  {
   "cell_type": "markdown",
   "metadata": {},
   "source": [
    "### PDEs - Relaxation Method"
   ]
  },
  {
   "cell_type": "code",
   "execution_count": 89,
   "metadata": {
    "ExecuteTime": {
     "end_time": "2020-12-06T23:05:39.964070Z",
     "start_time": "2020-12-06T23:05:39.959826Z"
    }
   },
   "outputs": [],
   "source": [
    "def relaxation(init,sizex,sizey):\n",
    "    res = init.copy()\n",
    "    for x in range(1,sizex-1):\n",
    "        for y in range(1,sizey-1):\n",
    "            res[x,y] = (init[x-1,y]+init[x+1,y]+init[x,y-1]+init[x,y+1])/4 #times some constant perhaps\n",
    "    return res"
   ]
  },
  {
   "cell_type": "code",
   "execution_count": 92,
   "metadata": {
    "ExecuteTime": {
     "end_time": "2020-12-06T23:06:28.999272Z",
     "start_time": "2020-12-06T23:06:28.268826Z"
    },
    "scrolled": false
   },
   "outputs": [
    {
     "data": {
      "image/png": "[encoded data removed]",
      "text/plain": [
       "<Figure size 329.143x288 with 2 Axes>"
      ]
     },
     "metadata": {
      "needs_background": "light"
     },
     "output_type": "display_data"
    },
    {
     "data": {
      "image/png": "[encoded data removed]",
      "text/plain": [
       "<Figure size 329.143x288 with 2 Axes>"
      ]
     },
     "metadata": {
      "needs_background": "light"
     },
     "output_type": "display_data"
    },
    {
     "data": {
      "image/png": "[encoded data removed]",
      "text/plain": [
       "<Figure size 329.143x288 with 2 Axes>"
      ]
     },
     "metadata": {
      "needs_background": "light"
     },
     "output_type": "display_data"
    }
   ],
   "source": [
    "sizex = 14\n",
    "sizey = 16\n",
    "\n",
    "initial = array([[20.]*sizey]*sizex)\n",
    "\n",
    "for i in range(1,7):\n",
    "    initial[0,i] = 10\n",
    "for i in range(8,13):\n",
    "    initial[sizex-1,i] = 0\n",
    "for i in range(12):\n",
    "    initial = relaxation(initial,sizex,sizey)\n",
    "    if i%4 == 0:\n",
    "        plt.matshow(initial)\n",
    "        plt.colorbar()"
   ]
  },
  {
   "cell_type": "code",
   "execution_count": null,
   "metadata": {},
   "outputs": [],
   "source": []
  }
 ],
 "metadata": {
  "kernelspec": {
   "display_name": "Python 3",
   "language": "python",
   "name": "python3"
  },
  "language_info": {
   "codemirror_mode": {
    "name": "ipython",
    "version": 3
   },
   "file_extension": ".py",
   "mimetype": "text/x-python",
   "name": "python",
   "nbconvert_exporter": "python",
   "pygments_lexer": "ipython3",
   "version": "3.7.7"
  },
  "toc": {
   "base_numbering": 1,
   "nav_menu": {},
   "number_sections": true,
   "sideBar": true,
   "skip_h1_title": false,
   "title_cell": "Table of Contents",
   "title_sidebar": "Contents",
   "toc_cell": false,
   "toc_position": {},
   "toc_section_display": true,
   "toc_window_display": false
  },
  "varInspector": {
   "cols": {
    "lenName": 16,
    "lenType": 16,
    "lenVar": 40
   },
   "kernels_config": {
    "python": {
     "delete_cmd_postfix": "",
     "delete_cmd_prefix": "del ",
     "library": "var_list.py",
     "varRefreshCmd": "print(var_dic_list())"
    },
    "r": {
     "delete_cmd_postfix": ") ",
     "delete_cmd_prefix": "rm(",
     "library": "var_list.r",
     "varRefreshCmd": "cat(var_dic_list()) "
    }
   },
   "types_to_exclude": [
    "module",
    "function",
    "builtin_function_or_method",
    "instance",
    "_Feature"
   ],
   "window_display": false
  }
 },
 "nbformat": 4,
 "nbformat_minor": 4
}
