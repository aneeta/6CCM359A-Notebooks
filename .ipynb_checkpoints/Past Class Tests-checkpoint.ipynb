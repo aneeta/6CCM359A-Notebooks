{
 "cells": [
  {
   "cell_type": "code",
   "execution_count": 48,
   "metadata": {
    "ExecuteTime": {
     "end_time": "2020-12-06T22:35:09.951172Z",
     "start_time": "2020-12-06T22:35:09.494468Z"
    }
   },
   "outputs": [],
   "source": [
    "from IPython.display import IFrame\n",
    "import numpy as np\n",
    "import matplotlib.pyplot as plt"
   ]
  },
  {
   "cell_type": "markdown",
   "metadata": {
    "heading_collapsed": true
   },
   "source": [
    "## 2017"
   ]
  },
  {
   "cell_type": "markdown",
   "metadata": {
    "heading_collapsed": true,
    "hidden": true
   },
   "source": [
    "### Exercises"
   ]
  },
  {
   "cell_type": "code",
   "execution_count": 5,
   "metadata": {
    "ExecuteTime": {
     "end_time": "2020-12-06T00:37:13.983677Z",
     "start_time": "2020-12-06T00:37:13.976064Z"
    },
    "hidden": true
   },
   "outputs": [
    {
     "data": {
      "text/html": [
       "\n",
       "        <iframe\n",
       "            width=\"1000\"\n",
       "            height=\"500\"\n",
       "            src=\"pp2017.pdf\"\n",
       "            frameborder=\"0\"\n",
       "            allowfullscreen\n",
       "        ></iframe>\n",
       "        "
      ],
      "text/plain": [
       "<IPython.lib.display.IFrame at 0x7f92e8a39c50>"
      ]
     },
     "execution_count": 5,
     "metadata": {},
     "output_type": "execute_result"
    }
   ],
   "source": [
    "IFrame(\"pp2017.pdf\", width=1000, height=500)"
   ]
  },
  {
   "cell_type": "markdown",
   "metadata": {
    "hidden": true
   },
   "source": [
    "### Answers"
   ]
  },
  {
   "cell_type": "markdown",
   "metadata": {
    "hidden": true
   },
   "source": [
    "#### Q3 - Lagrange Interpolation"
   ]
  },
  {
   "cell_type": "code",
   "execution_count": 5,
   "metadata": {
    "ExecuteTime": {
     "end_time": "2020-12-06T17:55:42.057310Z",
     "start_time": "2020-12-06T17:55:42.052172Z"
    },
    "hidden": true
   },
   "outputs": [],
   "source": [
    "def p(i, xs, x):\n",
    "    return np.prod([(x-xs[j])/(xs[i]-xs[j]) for j in range(len(xs)) if j != i])"
   ]
  },
  {
   "cell_type": "code",
   "execution_count": 24,
   "metadata": {
    "ExecuteTime": {
     "end_time": "2020-12-06T18:00:54.545912Z",
     "start_time": "2020-12-06T18:00:54.542359Z"
    },
    "hidden": true
   },
   "outputs": [],
   "source": [
    "def lagrange(x0, x, y):\n",
    "    return sum([y[i]*p(i,x,x0) for i in range(len(x))])"
   ]
  },
  {
   "cell_type": "code",
   "execution_count": 25,
   "metadata": {
    "ExecuteTime": {
     "end_time": "2020-12-06T18:00:55.241217Z",
     "start_time": "2020-12-06T18:00:55.237362Z"
    },
    "hidden": true
   },
   "outputs": [],
   "source": [
    "x = np.arange(0.1, 0.4, 0.1)\n",
    "y = [10,5,-4,-7]"
   ]
  },
  {
   "cell_type": "code",
   "execution_count": 28,
   "metadata": {
    "ExecuteTime": {
     "end_time": "2020-12-06T18:01:15.039406Z",
     "start_time": "2020-12-06T18:01:15.036643Z"
    },
    "hidden": true
   },
   "outputs": [
    {
     "name": "stdout",
     "output_type": "stream",
     "text": [
      "5.0 0.37500000000000205\n"
     ]
    }
   ],
   "source": [
    "print(lagrange(0.2, x, y), lagrange(0.25, x, y))"
   ]
  },
  {
   "cell_type": "markdown",
   "metadata": {
    "hidden": true
   },
   "source": [
    "#### Q4 - Monte Carlo"
   ]
  },
  {
   "cell_type": "code",
   "execution_count": 43,
   "metadata": {
    "ExecuteTime": {
     "end_time": "2020-12-06T22:33:09.066088Z",
     "start_time": "2020-12-06T22:33:09.059489Z"
    },
    "hidden": true
   },
   "outputs": [],
   "source": [
    "def mc(n):\n",
    "    n_in = 0\n",
    "    for i in range(n):\n",
    "        x = np.random.uniform(-1,1)\n",
    "        y = np.random.uniform(-1,1)\n",
    "        z = np.random.uniform(-1,1)\n",
    "        if x**2 + (y**2)/4 + z**2 <= 1:\n",
    "            n_in +=1\n",
    "    p1 = n_in/n\n",
    "    s1 = 8*p1\n",
    "    error = 8*np.sqrt(p1*(1-p1))/(np.sqrt(n))\n",
    "    return s1, error"
   ]
  },
  {
   "cell_type": "code",
   "execution_count": 44,
   "metadata": {
    "ExecuteTime": {
     "end_time": "2020-12-06T22:33:09.273513Z",
     "start_time": "2020-12-06T22:33:09.259287Z"
    },
    "hidden": true,
    "scrolled": true
   },
   "outputs": [
    {
     "data": {
      "text/plain": [
       "(5.759586531581287, (5.704, 0.1144394337630172))"
      ]
     },
     "execution_count": 44,
     "metadata": {},
     "output_type": "execute_result"
    }
   ],
   "source": [
    "# analytic solution, numerical result, error\n",
    "(11*np.pi/6, mc(1000))"
   ]
  },
  {
   "cell_type": "markdown",
   "metadata": {
    "hidden": true
   },
   "source": [
    "#### Q5 - Euler ODE"
   ]
  },
  {
   "cell_type": "code",
   "execution_count": 49,
   "metadata": {
    "ExecuteTime": {
     "end_time": "2020-12-06T22:35:13.876774Z",
     "start_time": "2020-12-06T22:35:13.718530Z"
    },
    "hidden": true
   },
   "outputs": [
    {
     "data": {
      "image/png": "[encoded data removed]",
      "text/plain": [
       "<Figure size 432x288 with 1 Axes>"
      ]
     },
     "metadata": {
      "needs_background": "light"
     },
     "output_type": "display_data"
    }
   ],
   "source": [
    "xs = np.linspace(0,1,100)\n",
    "ys = np.zeros(100)\n",
    "\n",
    "ys[0] = 1/2\n",
    "h = xs[1]-xs[0]\n",
    "\n",
    "for i in range(99):\n",
    "    ys[i+1] = ys[i]+h*(ys[i]**2+np.cos(20*xs[i]))\n",
    "    \n",
    "plt.plot(xs,ys)\n",
    "plt.show()"
   ]
  },
  {
   "cell_type": "markdown",
   "metadata": {
    "hidden": true
   },
   "source": [
    "#### Q6  - Simpson's"
   ]
  },
  {
   "cell_type": "code",
   "execution_count": 37,
   "metadata": {
    "ExecuteTime": {
     "end_time": "2020-12-06T22:31:13.919087Z",
     "start_time": "2020-12-06T22:31:13.912817Z"
    },
    "hidden": true
   },
   "outputs": [],
   "source": [
    "def Simpsons(f,a,b,n):\n",
    "    # f - some function\n",
    "    # n - number of interval divisons\n",
    "    # a,b - interval\n",
    "    x = np.linspace(a,b,n)\n",
    "    return sum([(x[i+1]-x[i])/6*(f(x[i])+4*f((x[i] + x[i+1])/2)+f(x[i+1])) for i in range(len(x)-1)])"
   ]
  },
  {
   "cell_type": "code",
   "execution_count": 38,
   "metadata": {
    "ExecuteTime": {
     "end_time": "2020-12-06T22:31:14.117205Z",
     "start_time": "2020-12-06T22:31:14.104969Z"
    },
    "hidden": true
   },
   "outputs": [
    {
     "data": {
      "text/plain": [
       "3.1415926535897496"
      ]
     },
     "execution_count": 38,
     "metadata": {},
     "output_type": "execute_result"
    }
   ],
   "source": [
    "Simpsons(lambda x: 2/(1+x**2),-1,1,100)"
   ]
  },
  {
   "cell_type": "markdown",
   "metadata": {
    "heading_collapsed": true
   },
   "source": [
    "## 2018"
   ]
  },
  {
   "cell_type": "markdown",
   "metadata": {
    "hidden": true
   },
   "source": [
    "### Exercises"
   ]
  },
  {
   "cell_type": "code",
   "execution_count": 6,
   "metadata": {
    "ExecuteTime": {
     "end_time": "2020-12-06T00:38:29.486459Z",
     "start_time": "2020-12-06T00:38:29.476713Z"
    },
    "hidden": true
   },
   "outputs": [
    {
     "data": {
      "text/html": [
       "\n",
       "        <iframe\n",
       "            width=\"1000\"\n",
       "            height=\"500\"\n",
       "            src=\"pp2018.pdf\"\n",
       "            frameborder=\"0\"\n",
       "            allowfullscreen\n",
       "        ></iframe>\n",
       "        "
      ],
      "text/plain": [
       "<IPython.lib.display.IFrame at 0x7f92e8940610>"
      ]
     },
     "execution_count": 6,
     "metadata": {},
     "output_type": "execute_result"
    }
   ],
   "source": [
    "IFrame(\"pp2018.pdf\", width=1000, height=500)"
   ]
  },
  {
   "cell_type": "markdown",
   "metadata": {
    "hidden": true
   },
   "source": [
    "### Answers"
   ]
  },
  {
   "cell_type": "markdown",
   "metadata": {
    "heading_collapsed": true,
    "hidden": true
   },
   "source": [
    "#### "
   ]
  },
  {
   "cell_type": "code",
   "execution_count": null,
   "metadata": {
    "hidden": true
   },
   "outputs": [],
   "source": []
  },
  {
   "cell_type": "markdown",
   "metadata": {
    "heading_collapsed": true,
    "hidden": true
   },
   "source": [
    "#### "
   ]
  },
  {
   "cell_type": "code",
   "execution_count": null,
   "metadata": {
    "hidden": true
   },
   "outputs": [],
   "source": []
  },
  {
   "cell_type": "markdown",
   "metadata": {
    "heading_collapsed": true,
    "hidden": true
   },
   "source": [
    "#### "
   ]
  },
  {
   "cell_type": "code",
   "execution_count": 64,
   "metadata": {
    "ExecuteTime": {
     "end_time": "2020-12-06T22:49:39.598081Z",
     "start_time": "2020-12-06T22:49:39.594178Z"
    },
    "hidden": true
   },
   "outputs": [],
   "source": [
    "def h(k):\n",
    "    return (1+(-1)**k)/(k+1)"
   ]
  },
  {
   "cell_type": "code",
   "execution_count": 65,
   "metadata": {
    "ExecuteTime": {
     "end_time": "2020-12-06T22:49:44.864024Z",
     "start_time": "2020-12-06T22:49:44.858594Z"
    },
    "hidden": true
   },
   "outputs": [
    {
     "data": {
      "text/plain": [
       "0.18181818181818182"
      ]
     },
     "execution_count": 65,
     "metadata": {},
     "output_type": "execute_result"
    }
   ],
   "source": [
    "h(10)"
   ]
  },
  {
   "cell_type": "code",
   "execution_count": 67,
   "metadata": {
    "ExecuteTime": {
     "end_time": "2020-12-06T23:00:31.883600Z",
     "start_time": "2020-12-06T23:00:31.876783Z"
    },
    "hidden": true
   },
   "outputs": [],
   "source": [
    "def nodes_weights(h, n):\n",
    "    # get polynomials\n",
    "    # Hc=d\n",
    "    d = [-h(n+1+k) for k in range(n+1)]\n",
    "    H = [[h(k+i) for k in range(n+1)] for i in range(n+1)]\n",
    "    \n",
    "    # find polynomial coefficients\n",
    "    c = np.linalg.solve(H,d) \n",
    "    c = np.append(c, [1])\n",
    "    \n",
    "    #find roots\n",
    "    x_i = np.roots(c[::-1]).real\n",
    "    \n",
    "    #find weights\n",
    "    #Xa=h\n",
    "    h = [h(k) for k in range(n+1)]\n",
    "    X = [[x_i[i]**k for i in range(n+1)] for k in range(n+1)]\n",
    "\n",
    "    a = np.linalg.solve(X,h)\n",
    "    \n",
    "    return x_i, a"
   ]
  },
  {
   "cell_type": "code",
   "execution_count": 71,
   "metadata": {
    "ExecuteTime": {
     "end_time": "2020-12-06T23:01:54.760276Z",
     "start_time": "2020-12-06T23:01:54.753814Z"
    },
    "hidden": true
   },
   "outputs": [
    {
     "data": {
      "text/plain": [
       "(array([-0.86113631,  0.86113631, -0.33998104,  0.33998104]),\n",
       " array([0.34785485, 0.34785485, 0.65214515, 0.65214515]))"
      ]
     },
     "execution_count": 71,
     "metadata": {},
     "output_type": "execute_result"
    }
   ],
   "source": [
    "nodes_weights(h, 3)"
   ]
  },
  {
   "cell_type": "markdown",
   "metadata": {
    "heading_collapsed": true,
    "hidden": true
   },
   "source": [
    "#### "
   ]
  },
  {
   "cell_type": "code",
   "execution_count": 59,
   "metadata": {
    "ExecuteTime": {
     "end_time": "2020-12-06T22:47:16.144180Z",
     "start_time": "2020-12-06T22:47:16.138996Z"
    },
    "hidden": true
   },
   "outputs": [],
   "source": [
    "def mc(N):\n",
    "    n=0\n",
    "    \n",
    "    points = {\n",
    "        \"xin\": [],\n",
    "        \"yin\": [],\n",
    "        \"xout\": [],\n",
    "        \"yout\": []\n",
    "    }\n",
    "    \n",
    "    for i in range(N):\n",
    "        x = np.random.uniform(-1,1)\n",
    "        y = np.random.uniform(-2,2)\n",
    "        if x**2+(y**2)/4 < 1 and y > -1:\n",
    "            n += 1\n",
    "            points['xin'].append(x)\n",
    "            points['yin'].append(y)\n",
    "        else:\n",
    "            points['xout'].append(x)\n",
    "            points['yout'].append(y)\n",
    "            \n",
    "    p1 = n/N\n",
    "    S1 = p1*8\n",
    "    error=8*np.sqrt(p1*(1-p1))/(np.sqrt(N))\n",
    "    \n",
    "    \n",
    "    \n",
    "    return S1, error, points"
   ]
  },
  {
   "cell_type": "code",
   "execution_count": 60,
   "metadata": {
    "ExecuteTime": {
     "end_time": "2020-12-06T22:47:16.702473Z",
     "start_time": "2020-12-06T22:47:16.694544Z"
    },
    "hidden": true
   },
   "outputs": [],
   "source": [
    "res = mc(1000)"
   ]
  },
  {
   "cell_type": "code",
   "execution_count": 61,
   "metadata": {
    "ExecuteTime": {
     "end_time": "2020-12-06T22:47:17.281913Z",
     "start_time": "2020-12-06T22:47:17.276549Z"
    },
    "hidden": true
   },
   "outputs": [
    {
     "name": "stdout",
     "output_type": "stream",
     "text": [
      "Actual error -0.21481560857082904\n",
      "Error estimate 0.12367053003848573\n"
     ]
    }
   ],
   "source": [
    "print(\"Actual error\", res[0] - (np.sqrt(3)/2+4*np.pi/3))\n",
    "print(\"Error estimate\", res[1])"
   ]
  },
  {
   "cell_type": "code",
   "execution_count": 63,
   "metadata": {
    "ExecuteTime": {
     "end_time": "2020-12-06T22:48:06.832056Z",
     "start_time": "2020-12-06T22:48:06.649591Z"
    },
    "hidden": true
   },
   "outputs": [
    {
     "data": {
      "image/png": "[encoded data removed]",
      "text/plain": [
       "<Figure size 432x288 with 1 Axes>"
      ]
     },
     "metadata": {
      "needs_background": "light"
     },
     "output_type": "display_data"
    }
   ],
   "source": [
    "plt.scatter(res[2][\"xin\"], res[2][\"yin\"])\n",
    "plt.scatter(res[2][\"xout\"], res[2][\"yout\"])\n",
    "plt.show()"
   ]
  },
  {
   "cell_type": "markdown",
   "metadata": {
    "heading_collapsed": true,
    "hidden": true
   },
   "source": [
    "#### "
   ]
  },
  {
   "cell_type": "code",
   "execution_count": null,
   "metadata": {
    "hidden": true
   },
   "outputs": [],
   "source": []
  },
  {
   "cell_type": "markdown",
   "metadata": {
    "heading_collapsed": true,
    "hidden": true
   },
   "source": [
    "#### "
   ]
  },
  {
   "cell_type": "code",
   "execution_count": 97,
   "metadata": {
    "ExecuteTime": {
     "end_time": "2020-12-06T23:27:42.442233Z",
     "start_time": "2020-12-06T23:27:42.438295Z"
    },
    "hidden": true
   },
   "outputs": [],
   "source": [
    "def f(x, y):\n",
    "    return 1/y + y*np.sin(2*x)"
   ]
  },
  {
   "cell_type": "code",
   "execution_count": 98,
   "metadata": {
    "ExecuteTime": {
     "end_time": "2020-12-06T23:27:42.702901Z",
     "start_time": "2020-12-06T23:27:42.698905Z"
    },
    "hidden": true
   },
   "outputs": [],
   "source": [
    "x_s = np.linspace(0,10,200)\n",
    "y_s = np.zeros(200)"
   ]
  },
  {
   "cell_type": "code",
   "execution_count": 99,
   "metadata": {
    "ExecuteTime": {
     "end_time": "2020-12-06T23:27:43.027098Z",
     "start_time": "2020-12-06T23:27:43.023433Z"
    },
    "hidden": true
   },
   "outputs": [],
   "source": [
    "y_s[0] = 1/4\n",
    "h = x_s[1]-x_s[0]"
   ]
  },
  {
   "cell_type": "code",
   "execution_count": 100,
   "metadata": {
    "ExecuteTime": {
     "end_time": "2020-12-06T23:27:43.426716Z",
     "start_time": "2020-12-06T23:27:43.421508Z"
    },
    "hidden": true
   },
   "outputs": [],
   "source": [
    "for i in range(1,200):\n",
    "    y_s[i] = y_s[i-1] + h*f(x_s[i-1], y_s[i-1])"
   ]
  },
  {
   "cell_type": "code",
   "execution_count": 101,
   "metadata": {
    "ExecuteTime": {
     "end_time": "2020-12-06T23:27:43.840376Z",
     "start_time": "2020-12-06T23:27:43.833608Z"
    },
    "hidden": true
   },
   "outputs": [
    {
     "data": {
      "text/plain": [
       "3.908486089568521"
      ]
     },
     "execution_count": 101,
     "metadata": {},
     "output_type": "execute_result"
    }
   ],
   "source": [
    "y_s[-1] #y(10)"
   ]
  },
  {
   "cell_type": "code",
   "execution_count": 106,
   "metadata": {
    "ExecuteTime": {
     "end_time": "2020-12-06T23:38:52.774210Z",
     "start_time": "2020-12-06T23:38:52.637062Z"
    },
    "hidden": true
   },
   "outputs": [
    {
     "data": {
      "image/png": "[encoded data removed]",
      "text/plain": [
       "<Figure size 432x288 with 1 Axes>"
      ]
     },
     "metadata": {
      "needs_background": "light"
     },
     "output_type": "display_data"
    }
   ],
   "source": [
    "plt.plot(x_s,y_s)\n",
    "plt.show()"
   ]
  },
  {
   "cell_type": "code",
   "execution_count": 104,
   "metadata": {
    "ExecuteTime": {
     "end_time": "2020-12-06T23:38:40.322849Z",
     "start_time": "2020-12-06T23:38:40.319235Z"
    },
    "hidden": true
   },
   "outputs": [],
   "source": [
    "y_k = np.zeros(200)\n",
    "y_k[0] = 1/4"
   ]
  },
  {
   "cell_type": "code",
   "execution_count": 105,
   "metadata": {
    "ExecuteTime": {
     "end_time": "2020-12-06T23:38:40.552381Z",
     "start_time": "2020-12-06T23:38:40.545308Z"
    },
    "hidden": true
   },
   "outputs": [],
   "source": [
    "# runge-kutta 2nd order\n",
    "for i in range(1,200):\n",
    "    y_k[i] = y_k[i-1] + 0.5*h*f(x_s[i-1], y_k[i-1]) + 0.5*h*f(x_s[i-1]+h, y_k[i-1] + h*f(x_s[i-1], y_k[i-1]))"
   ]
  },
  {
   "cell_type": "code",
   "execution_count": 107,
   "metadata": {
    "ExecuteTime": {
     "end_time": "2020-12-06T23:39:02.809057Z",
     "start_time": "2020-12-06T23:39:02.674155Z"
    },
    "hidden": true
   },
   "outputs": [
    {
     "data": {
      "image/png": "[encoded data removed]",
      "text/plain": [
       "<Figure size 432x288 with 1 Axes>"
      ]
     },
     "metadata": {
      "needs_background": "light"
     },
     "output_type": "display_data"
    }
   ],
   "source": [
    "plt.plot(x_s,y_k)\n",
    "plt.show()"
   ]
  },
  {
   "cell_type": "code",
   "execution_count": 108,
   "metadata": {
    "ExecuteTime": {
     "end_time": "2020-12-06T23:39:14.417927Z",
     "start_time": "2020-12-06T23:39:14.412635Z"
    },
    "hidden": true
   },
   "outputs": [
    {
     "data": {
      "text/plain": [
       "4.2095016073206555"
      ]
     },
     "execution_count": 108,
     "metadata": {},
     "output_type": "execute_result"
    }
   ],
   "source": [
    "y_k[-1]"
   ]
  }
 ],
 "metadata": {
  "kernelspec": {
   "display_name": "Python 3.7 (base)",
   "language": "python",
   "name": "base"
  },
  "language_info": {
   "codemirror_mode": {
    "name": "ipython",
    "version": 3
   },
   "file_extension": ".py",
   "mimetype": "text/x-python",
   "name": "python",
   "nbconvert_exporter": "python",
   "pygments_lexer": "ipython3",
   "version": "3.7.7"
  },
  "toc": {
   "base_numbering": 1,
   "nav_menu": {},
   "number_sections": true,
   "sideBar": true,
   "skip_h1_title": false,
   "title_cell": "Table of Contents",
   "title_sidebar": "Contents",
   "toc_cell": false,
   "toc_position": {},
   "toc_section_display": true,
   "toc_window_display": false
  },
  "varInspector": {
   "cols": {
    "lenName": 16,
    "lenType": 16,
    "lenVar": 40
   },
   "kernels_config": {
    "python": {
     "delete_cmd_postfix": "",
     "delete_cmd_prefix": "del ",
     "library": "var_list.py",
     "varRefreshCmd": "print(var_dic_list())"
    },
    "r": {
     "delete_cmd_postfix": ") ",
     "delete_cmd_prefix": "rm(",
     "library": "var_list.r",
     "varRefreshCmd": "cat(var_dic_list()) "
    }
   },
   "types_to_exclude": [
    "module",
    "function",
    "builtin_function_or_method",
    "instance",
    "_Feature"
   ],
   "window_display": false
  }
 },
 "nbformat": 4,
 "nbformat_minor": 4
}
