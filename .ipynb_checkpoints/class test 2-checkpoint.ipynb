{
 "cells": [
  {
   "cell_type": "code",
   "execution_count": 1,
   "metadata": {
    "ExecuteTime": {
     "end_time": "2020-12-07T10:11:04.075148Z",
     "start_time": "2020-12-07T10:11:04.072549Z"
    }
   },
   "outputs": [],
   "source": [
    "from numpy import *"
   ]
  },
  {
   "cell_type": "markdown",
   "metadata": {},
   "source": [
    "# q1"
   ]
  },
  {
   "cell_type": "code",
   "execution_count": 33,
   "metadata": {
    "ExecuteTime": {
     "end_time": "2020-12-07T11:03:40.879634Z",
     "start_time": "2020-12-07T11:03:40.864263Z"
    }
   },
   "outputs": [
    {
     "data": {
      "text/plain": [
       "2.6385464086103205"
      ]
     },
     "execution_count": 33,
     "metadata": {},
     "output_type": "execute_result"
    }
   ],
   "source": [
    "def h(i):\n",
    "    # you may define this function here\n",
    "    return (1/(i+1)) + (1/(i+3))*2**(i+1)\n",
    "\n",
    "# you may use this function if you wish.\n",
    "def nodesAndWeights(n):\n",
    "    B = array([[0.]*(n+1)]*(n+1))\n",
    "    u = array([0.]*(n+1))\n",
    "    for k in range(n+1):\n",
    "        u[k] = - h(n+1+k)\n",
    "        for i in range(n+1):\n",
    "            B[k,i] = h(k+i)\n",
    "    cs = linalg.solve(B,u)\n",
    "    cs = append(cs,[1]) \n",
    "    xs = roots(cs[::-1]).real\n",
    "    As = array([0.]*(n+1))\n",
    "    for k in range(n+1):\n",
    "        u[k] = h(k)\n",
    "        for i in range(n+1):\n",
    "            B[k,i] = xs[i]**k\n",
    "    As = linalg.solve(B,u)\n",
    "    return xs, As\n",
    "\n",
    "def gaussian(g):\n",
    "    # main code goes here\n",
    "    return sum(As*array(list(map(g,xs))))\n",
    "\n",
    "xs, As = nodesAndWeights(5)\n",
    "# g(x) = w(x)x^i\n",
    "gaussian(h)"
   ]
  },
  {
   "cell_type": "markdown",
   "metadata": {},
   "source": [
    "# q2"
   ]
  },
  {
   "cell_type": "code",
   "execution_count": 34,
   "metadata": {
    "ExecuteTime": {
     "end_time": "2020-12-07T11:04:25.024940Z",
     "start_time": "2020-12-07T11:04:25.020473Z"
    }
   },
   "outputs": [],
   "source": [
    "def montecarlo(N,f):\n",
    "    # your code here\n",
    "    n=0\n",
    "    for i in range(N):\n",
    "        x = random.uniform(0,2)\n",
    "        y = random.uniform(0,2)\n",
    "        if (f(x))**2 > y:\n",
    "            n += 1\n",
    "    p1 = n/N\n",
    "    S1 = p1*2*2 #estimate of the area\n",
    "    \n",
    "    return S1"
   ]
  },
  {
   "cell_type": "code",
   "execution_count": 35,
   "metadata": {
    "ExecuteTime": {
     "end_time": "2020-12-07T11:04:25.355126Z",
     "start_time": "2020-12-07T11:04:25.351293Z"
    }
   },
   "outputs": [
    {
     "data": {
      "text/plain": [
       "0.0"
      ]
     },
     "execution_count": 35,
     "metadata": {},
     "output_type": "execute_result"
    }
   ],
   "source": [
    "montecarlo(100,lambda x: 0)"
   ]
  },
  {
   "cell_type": "code",
   "execution_count": 36,
   "metadata": {
    "ExecuteTime": {
     "end_time": "2020-12-07T11:04:25.873905Z",
     "start_time": "2020-12-07T11:04:25.866484Z"
    }
   },
   "outputs": [
    {
     "data": {
      "text/plain": [
       "2.092"
      ]
     },
     "execution_count": 36,
     "metadata": {},
     "output_type": "execute_result"
    }
   ],
   "source": [
    "montecarlo(1000,lambda x: x)"
   ]
  },
  {
   "cell_type": "markdown",
   "metadata": {},
   "source": [
    "# q3"
   ]
  },
  {
   "cell_type": "code",
   "execution_count": 44,
   "metadata": {
    "ExecuteTime": {
     "end_time": "2020-12-07T11:22:27.112857Z",
     "start_time": "2020-12-07T11:22:27.108987Z"
    }
   },
   "outputs": [],
   "source": [
    "def f(x,yvec):\n",
    "    return 2*x**2 + yvec[1] + yvec[0]**2"
   ]
  },
  {
   "cell_type": "code",
   "execution_count": 45,
   "metadata": {
    "ExecuteTime": {
     "end_time": "2020-12-07T11:22:27.413579Z",
     "start_time": "2020-12-07T11:22:27.409195Z"
    }
   },
   "outputs": [],
   "source": [
    "def F(f, x, y_v):\n",
    "    # you may want to define this function for convenience\n",
    "    \n",
    "    #size\n",
    "    n = len(y_v)\n",
    "    \n",
    "    result = np.zeros(n)\n",
    "    for i in range(n-1):\n",
    "        result[i] = y_v[i+1]\n",
    "        \n",
    "    result[-1] = f(x, y_v)\n",
    "    return result\n"
   ]
  },
  {
   "cell_type": "code",
   "execution_count": 53,
   "metadata": {
    "ExecuteTime": {
     "end_time": "2020-12-07T11:23:26.291449Z",
     "start_time": "2020-12-07T11:23:26.287430Z"
    }
   },
   "outputs": [],
   "source": [
    "def euler(x0, n, F, f):\n",
    "    # main code here\n",
    "    \n",
    "    init = [3,2,1]\n",
    "    #increment\n",
    "    h = x0/n\n",
    "    \n",
    "    #initialize x\n",
    "    x = np.arange(0, x0+h, h)\n",
    "    \n",
    "    #initialize y - [y, y', y'', ...]\n",
    "    y = np.zeros((n+1, len(init)))\n",
    "    y[0] = init\n",
    "    \n",
    "    #populate y\n",
    "    for i in range(n):\n",
    "        y[i+1] = y[i] + h*F(f, i*h, y[i])\n",
    "        \n",
    "    return x, y[:,0]"
   ]
  },
  {
   "cell_type": "code",
   "execution_count": 54,
   "metadata": {
    "ExecuteTime": {
     "end_time": "2020-12-07T11:23:26.677399Z",
     "start_time": "2020-12-07T11:23:26.674062Z"
    }
   },
   "outputs": [],
   "source": [
    "x, y = euler(2, 50, F, f)"
   ]
  },
  {
   "cell_type": "code",
   "execution_count": 51,
   "metadata": {
    "ExecuteTime": {
     "end_time": "2020-12-07T11:23:14.600569Z",
     "start_time": "2020-12-07T11:23:14.079319Z"
    }
   },
   "outputs": [],
   "source": [
    "import matplotlib.pyplot as plt"
   ]
  },
  {
   "cell_type": "code",
   "execution_count": 55,
   "metadata": {
    "ExecuteTime": {
     "end_time": "2020-12-07T11:23:28.339223Z",
     "start_time": "2020-12-07T11:23:28.188654Z"
    }
   },
   "outputs": [
    {
     "data": {
      "image/png": "[encoded data removed]",
      "text/plain": [
       "<Figure size 432x288 with 1 Axes>"
      ]
     },
     "metadata": {
      "needs_background": "light"
     },
     "output_type": "display_data"
    }
   ],
   "source": [
    "plt.plot(x,y)\n",
    "plt.show()"
   ]
  },
  {
   "cell_type": "markdown",
   "metadata": {},
   "source": [
    "# q4"
   ]
  },
  {
   "cell_type": "code",
   "execution_count": 56,
   "metadata": {
    "ExecuteTime": {
     "end_time": "2020-12-07T11:33:48.807056Z",
     "start_time": "2020-12-07T11:33:48.799531Z"
    }
   },
   "outputs": [],
   "source": [
    "def relaxation(init):\n",
    "    # here goes your code\n",
    "    res = init.copy()\n",
    "    for x in range(1,30):\n",
    "        for y in range(1,30):\n",
    "            res[x,y] = (init[x-1,y]+init[x+1,y]+4*(init[x,y-1]+init[x,y+1]))/4 #times some constant perhaps\n",
    "    return res\n"
   ]
  },
  {
   "cell_type": "code",
   "execution_count": null,
   "metadata": {},
   "outputs": [],
   "source": []
  },
  {
   "cell_type": "markdown",
   "metadata": {},
   "source": [
    "# q5\n",
    "Answer D $m=2$"
   ]
  },
  {
   "cell_type": "markdown",
   "metadata": {},
   "source": [
    "# q6\n",
    "Answer A $f^{(4)}(x) + xf'(x) - x = 0$"
   ]
  },
  {
   "cell_type": "markdown",
   "metadata": {},
   "source": [
    "# q7\n",
    "Answer A $O(1/N^2)$"
   ]
  },
  {
   "cell_type": "markdown",
   "metadata": {},
   "source": [
    "# q8\n",
    " (I'm assuming the square in the wording of the question is a mistake since both areas are rectangles)\n",
    "\n",
    "Error estimate: $\\sqrt{\\frac{S_1S_2}{N}}$<br>\n",
    "All area $S = 2*4 = 8$<br>\n",
    "Inside the square $S_1 = 1*2 = 2$<br>\n",
    "Outside the square $S_2 = S-S_1 = 8-2=6$\n",
    "\n",
    "Answer D $4/\\sqrt N$"
   ]
  },
  {
   "cell_type": "code",
   "execution_count": null,
   "metadata": {},
   "outputs": [],
   "source": []
  }
 ],
 "metadata": {
  "kernelspec": {
   "display_name": "Python 3",
   "language": "python",
   "name": "python3"
  },
  "language_info": {
   "codemirror_mode": {
    "name": "ipython",
    "version": 3
   },
   "file_extension": ".py",
   "mimetype": "text/x-python",
   "name": "python",
   "nbconvert_exporter": "python",
   "pygments_lexer": "ipython3",
   "version": "3.7.7"
  },
  "toc": {
   "base_numbering": 1,
   "nav_menu": {},
   "number_sections": true,
   "sideBar": true,
   "skip_h1_title": false,
   "title_cell": "Table of Contents",
   "title_sidebar": "Contents",
   "toc_cell": false,
   "toc_position": {},
   "toc_section_display": true,
   "toc_window_display": false
  },
  "varInspector": {
   "cols": {
    "lenName": 16,
    "lenType": 16,
    "lenVar": 40
   },
   "kernels_config": {
    "python": {
     "delete_cmd_postfix": "",
     "delete_cmd_prefix": "del ",
     "library": "var_list.py",
     "varRefreshCmd": "print(var_dic_list())"
    },
    "r": {
     "delete_cmd_postfix": ") ",
     "delete_cmd_prefix": "rm(",
     "library": "var_list.r",
     "varRefreshCmd": "cat(var_dic_list()) "
    }
   },
   "types_to_exclude": [
    "module",
    "function",
    "builtin_function_or_method",
    "instance",
    "_Feature"
   ],
   "window_display": false
  }
 },
 "nbformat": 4,
 "nbformat_minor": 4
}
