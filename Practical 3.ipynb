{
 "cells": [
  {
   "cell_type": "markdown",
   "metadata": {},
   "source": [
    "Aneta Swianiewicz <br>\n",
    "6CCM359A Numerical and Computational Methods <br>\n",
    "Practical 3"
   ]
  },
  {
   "cell_type": "code",
   "execution_count": 1,
   "metadata": {
    "ExecuteTime": {
     "end_time": "2020-12-06T18:04:05.997216Z",
     "start_time": "2020-12-06T18:04:05.551735Z"
    }
   },
   "outputs": [],
   "source": [
    "import numpy as np\n",
    "import matplotlib.pyplot as plt"
   ]
  },
  {
   "cell_type": "markdown",
   "metadata": {},
   "source": [
    "## Question 1\n",
    "Implement the Simpson's rule of numerical integration, and use it in order to estimate the integral $\\int_{-\\infty}^\\infty dx\\,e^{-x^2/2}$. Try to choose the number of divisions so that the error is of order $10^{-4}$. What is the exact value of this integral? <br>\n",
    "Hint: you must make the integration region finite first! What is a good estimate of the error due to cutting the infinite integration region to a finite interval?\n"
   ]
  },
  {
   "cell_type": "code",
   "execution_count": 3,
   "metadata": {
    "ExecuteTime": {
     "end_time": "2020-12-06T19:38:47.209386Z",
     "start_time": "2020-12-06T19:38:47.206807Z"
    }
   },
   "outputs": [],
   "source": [
    "def f(x):\n",
    "    return np.exp((-x**2)/2)"
   ]
  },
  {
   "cell_type": "code",
   "execution_count": 15,
   "metadata": {
    "ExecuteTime": {
     "end_time": "2020-12-06T19:43:10.433507Z",
     "start_time": "2020-12-06T19:43:10.304915Z"
    }
   },
   "outputs": [
    {
     "data": {
      "image/png": "[encoded data removed]",
      "text/plain": [
       "<Figure size 432x288 with 1 Axes>"
      ]
     },
     "metadata": {
      "needs_background": "light"
     },
     "output_type": "display_data"
    }
   ],
   "source": [
    "x = np.arange(-10,11,0.1)\n",
    "y = [f(i) for i in x]\n",
    "plt.plot(x,y)\n",
    "plt.show()"
   ]
  },
  {
   "cell_type": "code",
   "execution_count": 4,
   "metadata": {
    "ExecuteTime": {
     "end_time": "2020-12-06T19:38:47.573104Z",
     "start_time": "2020-12-06T19:38:47.569471Z"
    }
   },
   "outputs": [],
   "source": [
    "def Simpsons(f,a,b,n):\n",
    "    # n - number of interval divisons\n",
    "    x = np.linspace(a,b,n)\n",
    "    return sum([(x[i+1]-x[i])/6*(f(x[i])+4*f((x[i] + x[i+1])/2)+f(x[i+1])) for i in range(len(x)-1)])"
   ]
  },
  {
   "cell_type": "code",
   "execution_count": 11,
   "metadata": {
    "ExecuteTime": {
     "end_time": "2020-12-06T19:40:31.960051Z",
     "start_time": "2020-12-06T19:40:31.954085Z"
    }
   },
   "outputs": [
    {
     "data": {
      "text/plain": [
       "2.506653438123175"
      ]
     },
     "execution_count": 11,
     "metadata": {},
     "output_type": "execute_result"
    }
   ],
   "source": [
    "Simpsons(f, -6, 6, 10)"
   ]
  },
  {
   "cell_type": "markdown",
   "metadata": {},
   "source": [
    "## Question 2\n",
    "Write a function $\\tt Integrator(f,x)$ which integrates the function $\\tt f$ from $-2$ to $x$ with the middle-point rule, for the subinterval length $h=0.2$. this should work both for $x>-2$ (positive integral) and $x<-2$ (negative integral), and should take care of the discretisation in $x$ induced by $h$. Using this, plot the result of the integral $\\int_{-2}^x dy\\,y^2$ for $x$ between $-4$ and $4$ and 200 points, and compare with the analytical formula.\n"
   ]
  },
  {
   "cell_type": "code",
   "execution_count": 16,
   "metadata": {
    "ExecuteTime": {
     "end_time": "2020-12-06T19:47:20.981573Z",
     "start_time": "2020-12-06T19:47:20.976962Z"
    }
   },
   "outputs": [],
   "source": [
    "def midpoint(f,a,b,h):\n",
    "    return sum(list(map(lambda x: f(x), np.arange(a+h/2,b+h/2,h))))*h"
   ]
  },
  {
   "cell_type": "code",
   "execution_count": 26,
   "metadata": {
    "ExecuteTime": {
     "end_time": "2020-12-06T19:53:35.743825Z",
     "start_time": "2020-12-06T19:53:35.739086Z"
    }
   },
   "outputs": [],
   "source": [
    "def Integrator(f,x):\n",
    "    x_list = None\n",
    "    if x > -2:\n",
    "        return midpoint(f, -2, x, 0.2)\n",
    "    else:\n",
    "        return -midpoint(f, x, -2, 0.2)"
   ]
  },
  {
   "cell_type": "code",
   "execution_count": 19,
   "metadata": {
    "ExecuteTime": {
     "end_time": "2020-12-06T19:51:15.675420Z",
     "start_time": "2020-12-06T19:51:15.671555Z"
    }
   },
   "outputs": [],
   "source": [
    "def g(y):\n",
    "    return y**2"
   ]
  },
  {
   "cell_type": "code",
   "execution_count": 23,
   "metadata": {
    "ExecuteTime": {
     "end_time": "2020-12-06T19:51:34.120206Z",
     "start_time": "2020-12-06T19:51:34.116426Z"
    }
   },
   "outputs": [],
   "source": [
    "def G(y):\n",
    "    return (y**3)/3 + 8/3"
   ]
  },
  {
   "cell_type": "code",
   "execution_count": 27,
   "metadata": {
    "ExecuteTime": {
     "end_time": "2020-12-06T19:53:40.633148Z",
     "start_time": "2020-12-06T19:53:40.622550Z"
    }
   },
   "outputs": [],
   "source": [
    "x = np.linspace(-4,4,200)\n",
    "y = [Integrator(g, i) for i in x]\n",
    "Y = [G(i) for i in x]"
   ]
  },
  {
   "cell_type": "code",
   "execution_count": 29,
   "metadata": {
    "ExecuteTime": {
     "end_time": "2020-12-06T19:53:56.464575Z",
     "start_time": "2020-12-06T19:53:56.299757Z"
    }
   },
   "outputs": [
    {
     "data": {
      "image/png": "[encoded data removed]",
      "text/plain": [
       "<Figure size 720x504 with 1 Axes>"
      ]
     },
     "metadata": {
      "needs_background": "light"
     },
     "output_type": "display_data"
    }
   ],
   "source": [
    "plt.figure(figsize=(10,7))\n",
    "plt.plot(x,y, label=\"numeric\")\n",
    "plt.plot(x,Y, label=\"analytic\")\n",
    "plt.legend()\n",
    "plt.show()"
   ]
  },
  {
   "cell_type": "markdown",
   "metadata": {},
   "source": [
    "## Question 3\n",
    "Use the Euler method to solve the equation $y″(x)=−y′(x)$ with the initial conditions $y(0)=0$ and $y′(0)=1$. Plot your solution against the exact solution $y(x)=1−e^{-x}$."
   ]
  },
  {
   "cell_type": "code",
   "execution_count": 37,
   "metadata": {
    "ExecuteTime": {
     "end_time": "2020-12-06T20:03:22.709161Z",
     "start_time": "2020-12-06T20:03:22.706305Z"
    }
   },
   "outputs": [],
   "source": [
    "def f(x, y_v):\n",
    "    return -y_v[1]"
   ]
  },
  {
   "cell_type": "code",
   "execution_count": 38,
   "metadata": {
    "ExecuteTime": {
     "end_time": "2020-12-06T20:03:23.164768Z",
     "start_time": "2020-12-06T20:03:23.160068Z"
    }
   },
   "outputs": [],
   "source": [
    "def F_v(f, x, y_v):\n",
    "    #size\n",
    "    n = len(y_v)\n",
    "    \n",
    "    result = np.zeros(n)\n",
    "    \n",
    "    for i in range(n-1):\n",
    "        result[i] = y_v[i+1]\n",
    "        \n",
    "    result[-1] = f(x, y_v)\n",
    "    \n",
    "    return result"
   ]
  },
  {
   "cell_type": "code",
   "execution_count": 39,
   "metadata": {
    "ExecuteTime": {
     "end_time": "2020-12-06T20:03:23.895005Z",
     "start_time": "2020-12-06T20:03:23.888634Z"
    }
   },
   "outputs": [],
   "source": [
    "def Euler(init, interval, n, F, f):\n",
    "    #increment\n",
    "    h = abs(interval[1]-interval[0])/n\n",
    "    \n",
    "    #initialize x\n",
    "    x = np.arange(interval[0], interval[1]+h, h)\n",
    "    \n",
    "    #initialize y\n",
    "    y = np.zeros((n+1, len(init)))\n",
    "    y[0] = init\n",
    "    \n",
    "    #populate y\n",
    "    for i in range(n):\n",
    "        y[i+1] = y[i] + h*F(f, interval[0]+i*h, y[i])\n",
    "        \n",
    "    return x, y\n"
   ]
  },
  {
   "cell_type": "code",
   "execution_count": 40,
   "metadata": {
    "ExecuteTime": {
     "end_time": "2020-12-06T20:03:24.533538Z",
     "start_time": "2020-12-06T20:03:24.519310Z"
    }
   },
   "outputs": [],
   "source": [
    "init = [0.,1.]\n",
    "x, y = Euler(init, [0,10], 1000, F_v, f)"
   ]
  },
  {
   "cell_type": "code",
   "execution_count": 41,
   "metadata": {
    "ExecuteTime": {
     "end_time": "2020-12-06T20:03:25.137647Z",
     "start_time": "2020-12-06T20:03:24.973307Z"
    },
    "scrolled": true
   },
   "outputs": [
    {
     "data": {
      "image/png": "[encoded data removed]",
      "text/plain": [
       "<Figure size 432x288 with 1 Axes>"
      ]
     },
     "metadata": {
      "needs_background": "light"
     },
     "output_type": "display_data"
    }
   ],
   "source": [
    "plt.plot(x, 1-np.exp(-x), label=\"analytic\")\n",
    "plt.plot(x, y[:,0], label=\"numeric\") # columns y - [y, y']\n",
    "plt.legend()\n",
    "plt.show()"
   ]
  },
  {
   "cell_type": "markdown",
   "metadata": {},
   "source": [
    "## Question 4\n",
    "Replace the recursion relation in the Euler method by $\\vec y (x+h)=\\vec y (x)+\\vec K_1$, where $K_1= h\\vec F(x+h/2,y+\\vec K_0/2)$ and $\\vec K_0 = h\\vec F(x,\\vec y)$, and $\\vec F(x,\\vec y)$ is as usual what enters the way of writing the differential equation as $\\vec y' = F(x,\\vec y)$. For the same problem as in Question 3, compare the precision of the new recursion relation against that of the Euler method, by plotting the difference of the numerical evaluation and exact solution."
   ]
  },
  {
   "cell_type": "code",
   "execution_count": 44,
   "metadata": {
    "ExecuteTime": {
     "end_time": "2020-12-06T20:04:03.104073Z",
     "start_time": "2020-12-06T20:04:03.047389Z"
    }
   },
   "outputs": [],
   "source": [
    "def RK2(init, interval, n, F, f):\n",
    "    #increment\n",
    "    h = abs(interval[0]-interval[1])/n\n",
    "    \n",
    "    #initialize x\n",
    "    x = np.arange(interval[0], interval[1]+h, h)\n",
    "    \n",
    "    #initialize y\n",
    "    y = np.zeros((n+1, len(init)))\n",
    "    y[0] = init\n",
    "    \n",
    "    #populate y\n",
    "    for i in range(n):\n",
    "        xi = interval[0] + i*h\n",
    "        y[i+1] = y[i] + h*F(f,xi+h/2,y[i]+h*F(f,xi,y[i])/2)\n",
    "    return x, y[:,0]"
   ]
  },
  {
   "cell_type": "code",
   "execution_count": 51,
   "metadata": {
    "ExecuteTime": {
     "end_time": "2020-12-06T20:07:06.117454Z",
     "start_time": "2020-12-06T20:07:05.979508Z"
    }
   },
   "outputs": [],
   "source": [
    "init = [0,1]\n",
    "x2, y2 = RK2(init, [0,10], 10000, F_v, f)\n",
    "\n",
    "diff = [y2[i]-1+np.exp(-x2[i]) for i in range(len(x2))]"
   ]
  },
  {
   "cell_type": "code",
   "execution_count": 55,
   "metadata": {
    "ExecuteTime": {
     "end_time": "2020-12-06T20:08:01.221456Z",
     "start_time": "2020-12-06T20:08:01.058495Z"
    }
   },
   "outputs": [
    {
     "data": {
      "image/png": "[encoded data removed]",
      "text/plain": [
       "<Figure size 432x288 with 1 Axes>"
      ]
     },
     "metadata": {
      "needs_background": "light"
     },
     "output_type": "display_data"
    }
   ],
   "source": [
    "plt.plot(x2, diff, label=\"difference\")\n",
    "plt.legend()\n",
    "plt.show()"
   ]
  },
  {
   "cell_type": "markdown",
   "metadata": {},
   "source": [
    "## Question 5\n",
    "Write a function $\\tt Integrator(F,x)$ which solves the differential equation $\\vec y' = \\vec F(x,\\vec y)$ on the interval $[0,x]$ by the 4th order Runge-Kutta method, for a two-dimensional vector $\\vec y$, with initial condition $\\vec y(0) = (1,1)^T$ (the column vector with all 1's). The integrator should output the solution at the point $x$; assume that $x > 0$, and take subintervals of lengths 0.1. Then, solve the equation $\\vec y' = A\\vec y$ where $A = \\left(\\begin{matrix} 2 & 3 \\\\ 0 & -2 \\end{matrix}\\right)$ using this integrator.<br><br>Then, implement the analytical solution $\\vec y(x) = \\exp(Ax)(1,1)^T$ by importing scipy.linalg and using its method expm for exponentiation of a matrix, and compare with your numerical solution by printing both numerical and analytical solutions at various values of $x$."
   ]
  },
  {
   "cell_type": "code",
   "execution_count": 64,
   "metadata": {
    "ExecuteTime": {
     "end_time": "2020-12-06T20:20:55.623480Z",
     "start_time": "2020-12-06T20:20:55.621177Z"
    }
   },
   "outputs": [],
   "source": [
    "import scipy.linalg"
   ]
  },
  {
   "cell_type": "code",
   "execution_count": 65,
   "metadata": {
    "ExecuteTime": {
     "end_time": "2020-12-06T20:20:55.946307Z",
     "start_time": "2020-12-06T20:20:55.942983Z"
    }
   },
   "outputs": [],
   "source": [
    "def F_v(x, y_v):\n",
    "    return np.dot(np.array([[2,3],[0,-2]]),y_v)"
   ]
  },
  {
   "cell_type": "code",
   "execution_count": 142,
   "metadata": {
    "ExecuteTime": {
     "end_time": "2020-12-06T20:45:01.457774Z",
     "start_time": "2020-12-06T20:45:01.448749Z"
    }
   },
   "outputs": [],
   "source": [
    "def RK4(init, interval, F, h):\n",
    "    \n",
    "    n = round((interval[1]-interval[0])/h)\n",
    "    \n",
    "    #initialize x\n",
    "    x = np.arange(interval[0], interval[1]+h, h)\n",
    "    \n",
    "    #initialize y\n",
    "    y = np.zeros((n+1, len(init)))\n",
    "    y[0] = init\n",
    "    \n",
    "    #populate y\n",
    "    for i in range(n):\n",
    "        K0 = h*F(interval[0]+i*h, y[i])\n",
    "        K1 = h*F(interval[0]+(i+0.5)*h, y[i] + K0/2)\n",
    "        K2 = h*F(interval[0]+(i+0.5)*h, y[i] + K1/2)\n",
    "        K3 = h*F(interval[0]+(i+1)*h, y[i] + K2)\n",
    "        y[i+1] = y[i] + (K0 + 2*K1 + 2*K2 + K3)/6\n",
    "        \n",
    "    return y[-1]\n"
   ]
  },
  {
   "cell_type": "code",
   "execution_count": 143,
   "metadata": {
    "ExecuteTime": {
     "end_time": "2020-12-06T20:45:01.860985Z",
     "start_time": "2020-12-06T20:45:01.857500Z"
    }
   },
   "outputs": [],
   "source": [
    "y0 = np.array([[1],[1]])"
   ]
  },
  {
   "cell_type": "code",
   "execution_count": 144,
   "metadata": {
    "ExecuteTime": {
     "end_time": "2020-12-06T20:45:11.548199Z",
     "start_time": "2020-12-06T20:45:11.543915Z"
    }
   },
   "outputs": [],
   "source": [
    "def Integrator(F,x):\n",
    "    h = 0.1\n",
    "    init = [1,1]\n",
    "    return RK4(init, [0,x], F, 0.1)"
   ]
  },
  {
   "cell_type": "code",
   "execution_count": 145,
   "metadata": {
    "ExecuteTime": {
     "end_time": "2020-12-06T20:45:11.914622Z",
     "start_time": "2020-12-06T20:45:11.907932Z"
    }
   },
   "outputs": [
    {
     "data": {
      "text/plain": [
       "array([12.82905151,  0.13533955])"
      ]
     },
     "execution_count": 145,
     "metadata": {},
     "output_type": "execute_result"
    }
   ],
   "source": [
    "Integrator(F_v, 1)"
   ]
  },
  {
   "cell_type": "code",
   "execution_count": 146,
   "metadata": {
    "ExecuteTime": {
     "end_time": "2020-12-06T20:45:13.037634Z",
     "start_time": "2020-12-06T20:45:13.029775Z"
    }
   },
   "outputs": [
    {
     "data": {
      "text/plain": [
       "array([9.55287098e+01, 1.83167934e-02])"
      ]
     },
     "execution_count": 146,
     "metadata": {},
     "output_type": "execute_result"
    }
   ],
   "source": [
    "Integrator(F_v, 2)"
   ]
  },
  {
   "cell_type": "code",
   "execution_count": 89,
   "metadata": {
    "ExecuteTime": {
     "end_time": "2020-12-06T20:24:43.540012Z",
     "start_time": "2020-12-06T20:24:43.536081Z"
    }
   },
   "outputs": [],
   "source": [
    "A = np.array([[2,3],[0,-2]])"
   ]
  },
  {
   "cell_type": "code",
   "execution_count": 92,
   "metadata": {
    "ExecuteTime": {
     "end_time": "2020-12-06T20:25:10.589461Z",
     "start_time": "2020-12-06T20:25:10.581734Z"
    }
   },
   "outputs": [
    {
     "data": {
      "text/plain": [
       "array([[12.82934671],\n",
       "       [ 0.13533528]])"
      ]
     },
     "execution_count": 92,
     "metadata": {},
     "output_type": "execute_result"
    }
   ],
   "source": [
    "np.dot(scipy.linalg.expm(A), np.array([[1],[1]]))"
   ]
  },
  {
   "cell_type": "code",
   "execution_count": 147,
   "metadata": {
    "ExecuteTime": {
     "end_time": "2020-12-06T20:45:26.711069Z",
     "start_time": "2020-12-06T20:45:26.705844Z"
    }
   },
   "outputs": [
    {
     "data": {
      "text/plain": [
       "array([[9.55330258e+01],\n",
       "       [1.83156389e-02]])"
      ]
     },
     "execution_count": 147,
     "metadata": {},
     "output_type": "execute_result"
    }
   ],
   "source": [
    "np.dot(scipy.linalg.expm(2*A), np.array([[1],[1]]))"
   ]
  }
 ],
 "metadata": {
  "kernelspec": {
   "display_name": "Python 3",
   "language": "python",
   "name": "python3"
  },
  "language_info": {
   "codemirror_mode": {
    "name": "ipython",
    "version": 3
   },
   "file_extension": ".py",
   "mimetype": "text/x-python",
   "name": "python",
   "nbconvert_exporter": "python",
   "pygments_lexer": "ipython3",
   "version": "3.7.7"
  },
  "toc": {
   "base_numbering": 1,
   "nav_menu": {},
   "number_sections": true,
   "sideBar": true,
   "skip_h1_title": false,
   "title_cell": "Table of Contents",
   "title_sidebar": "Contents",
   "toc_cell": false,
   "toc_position": {},
   "toc_section_display": true,
   "toc_window_display": false
  },
  "varInspector": {
   "cols": {
    "lenName": 16,
    "lenType": 16,
    "lenVar": 40
   },
   "kernels_config": {
    "python": {
     "delete_cmd_postfix": "",
     "delete_cmd_prefix": "del ",
     "library": "var_list.py",
     "varRefreshCmd": "print(var_dic_list())"
    },
    "r": {
     "delete_cmd_postfix": ") ",
     "delete_cmd_prefix": "rm(",
     "library": "var_list.r",
     "varRefreshCmd": "cat(var_dic_list()) "
    }
   },
   "types_to_exclude": [
    "module",
    "function",
    "builtin_function_or_method",
    "instance",
    "_Feature"
   ],
   "window_display": false
  }
 },
 "nbformat": 4,
 "nbformat_minor": 4
}
